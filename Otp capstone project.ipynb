{
 "cells": [
  {
   "cell_type": "code",
   "execution_count": 6,
   "id": "c11acc83-ded1-4673-a325-a553f82d14d4",
   "metadata": {},
   "outputs": [],
   "source": [
    "import random\n",
    "import smtplib"
   ]
  },
  {
   "cell_type": "code",
   "execution_count": 7,
   "id": "b80e7a46-69f1-4bba-bab6-e94fbf94cd52",
   "metadata": {},
   "outputs": [
    {
     "name": "stdout",
     "output_type": "stream",
     "text": [
      "Generated OTP: 369922\n"
     ]
    }
   ],
   "source": [
    "import random\n",
    "\n",
    "def generate_otp():\n",
    "    otp = random.randint(0, 999999) \n",
    "    return otp\n",
    "otp = generate_otp()\n",
    "print(f\"Generated OTP: {otp}\")\n"
   ]
  },
  {
   "cell_type": "code",
   "execution_count": 5,
   "id": "006a4535-d335-4aef-accc-4556887d00dd",
   "metadata": {},
   "outputs": [
    {
     "name": "stdout",
     "output_type": "stream",
     "text": [
      "OTP sent to gana07031109@gmail.com: 25094\n"
     ]
    }
   ],
   "source": [
    "def send_otp_email(email, otp):\n",
    "    print(f\"OTP sent to {email}: {otp}\")\n",
    "email_address = \"gana07031109@gmail.com\"\n",
    "otp = generate_otp()\n",
    "send_otp_email(email_address, otp)\n"
   ]
  },
  {
   "cell_type": "code",
   "execution_count": 9,
   "id": "96afe1d5-7b49-4817-9dfb-f0c3ac12b52b",
   "metadata": {},
   "outputs": [
    {
     "name": "stdout",
     "output_type": "stream",
     "text": [
      "Please enter the OTP received in your email:  369922\n"
     ]
    },
    {
     "name": "stdout",
     "output_type": "stream",
     "text": [
      "Entered OTP: 369922\n"
     ]
    }
   ],
   "source": [
    "def prompt_for_otp():\n",
    "    otp_entered = input(\"Please enter the OTP received in your email: \")\n",
    "    return otp_entered\n",
    "otp_entered = prompt_for_otp()\n",
    "print(f\"Entered OTP: {otp_entered}\")\n"
   ]
  },
  {
   "cell_type": "code",
   "execution_count": 10,
   "id": "9e532617-6cd1-4ee3-840f-b3c392bde401",
   "metadata": {},
   "outputs": [
    {
     "name": "stdout",
     "output_type": "stream",
     "text": [
      "Enter the OTP you received:  369922\n"
     ]
    },
    {
     "name": "stdout",
     "output_type": "stream",
     "text": [
      "OTP verified successfully!\n"
     ]
    }
   ],
   "source": [
    "def verify_otp(otp_generated, otp_entered):\n",
    "    otp_generated = str(otp_generated)\n",
    "    otp_entered = str(otp_entered)\n",
    "    \n",
    "    if otp_generated == otp_entered:\n",
    "        return True\n",
    "    else:\n",
    "        return False\n",
    "generated_otp = 369922  \n",
    "entered_otp = input(\"Enter the OTP you received: \")\n",
    "\n",
    "if verify_otp(generated_otp, entered_otp):\n",
    "    print(\"OTP verified successfully!\")\n",
    "else:\n",
    "    print(\"Invalid OTP. Please try again.\")\n"
   ]
  },
  {
   "cell_type": "code",
   "execution_count": 12,
   "id": "37042e8f-aea3-43e9-8dce-d425888d2c2a",
   "metadata": {},
   "outputs": [
    {
     "name": "stdout",
     "output_type": "stream",
     "text": [
      "Enter your email address to receive OTP:  gana07031109@gmail.com\n"
     ]
    },
    {
     "name": "stdout",
     "output_type": "stream",
     "text": [
      "OTP sent to gana07031109@gmail.com: 19160\n"
     ]
    },
    {
     "name": "stdout",
     "output_type": "stream",
     "text": [
      "Please enter the OTP received in your email:  19160\n"
     ]
    },
    {
     "name": "stdout",
     "output_type": "stream",
     "text": [
      "OTP verified successfully!\n"
     ]
    }
   ],
   "source": [
    "import random\n",
    "\n",
    "def generate_otp():\n",
    "    return random.randint(0, 999999)\n",
    "\n",
    "def send_otp_email(email, otp):\n",
    "    print(f\"OTP sent to {email}: {otp}\")\n",
    "\n",
    "def prompt_for_otp():\n",
    "    otp_entered = input(\"Please enter the OTP received in your email: \")\n",
    "    return otp_entered\n",
    "\n",
    "def verify_otp(otp_generated, otp_entered):\n",
    "    otp_generated = str(otp_generated)\n",
    "    otp_entered = str(otp_entered)\n",
    "    \n",
    "    if otp_generated == otp_entered:\n",
    "        return True\n",
    "    else:\n",
    "        return False\n",
    "\n",
    "def main():\n",
    "    email_address = input(\"Enter your email address to receive OTP: \")\n",
    "    generated_otp = generate_otp()\n",
    "    \n",
    "    try:\n",
    "        send_otp_email(email_address, generated_otp)\n",
    "    except Exception as e:\n",
    "        print(f\"Failed to send OTP. Error: {e}\")\n",
    "        return\n",
    "    max_attempts = 3\n",
    "    for attempt in range(max_attempts):\n",
    "        entered_otp = prompt_for_otp()\n",
    "        # Verify OTP\n",
    "        if verify_otp(generated_otp, entered_otp):\n",
    "            print(\"OTP verified successfully!\")\n",
    "            break\n",
    "        else:\n",
    "            remaining_attempts = max_attempts - attempt - 1\n",
    "            if remaining_attempts > 0:\n",
    "                print(f\"Invalid OTP. {remaining_attempts} attempts remaining. Please try again.\")\n",
    "            else:\n",
    "                print(\"You've exceeded the maximum number of attempts. Please try again later.\")\n",
    "                break\n",
    "\n",
    "if __name__ == \"__main__\":\n",
    "    main()\n",
    "    \n"
   ]
  },
  {
   "cell_type": "code",
   "execution_count": 13,
   "id": "ce1e4772-10f3-4334-86a3-bb79219ed0dc",
   "metadata": {},
   "outputs": [
    {
     "name": "stdout",
     "output_type": "stream",
     "text": [
      "Enter your email address to receive OTP:  gana07031109@gmail.com\n"
     ]
    },
    {
     "name": "stdout",
     "output_type": "stream",
     "text": [
      "OTP sent to gana07031109@gmail.com: 684577\n"
     ]
    },
    {
     "name": "stdout",
     "output_type": "stream",
     "text": [
      "Please enter the OTP received in your email:  684567\n"
     ]
    },
    {
     "name": "stdout",
     "output_type": "stream",
     "text": [
      "Invalid OTP. 2 attempts remaining. Please try again.\n"
     ]
    },
    {
     "name": "stdout",
     "output_type": "stream",
     "text": [
      "Please enter the OTP received in your email:  789326\n"
     ]
    },
    {
     "name": "stdout",
     "output_type": "stream",
     "text": [
      "Invalid OTP. 1 attempts remaining. Please try again.\n"
     ]
    },
    {
     "name": "stdout",
     "output_type": "stream",
     "text": [
      "Please enter the OTP received in your email:  789456\n"
     ]
    },
    {
     "name": "stdout",
     "output_type": "stream",
     "text": [
      "You've exceeded the maximum number of attempts. Please try again later.\n"
     ]
    }
   ],
   "source": [
    "import random\n",
    "\n",
    "def generate_otp():\n",
    "    return random.randint(100000, 999999)\n",
    "\n",
    "def send_otp_email(email, otp):\n",
    "    print(f\"OTP sent to {email}: {otp}\")\n",
    "\n",
    "def prompt_for_otp():\n",
    "    otp_entered = input(\"Please enter the OTP received in your email: \")\n",
    "    return otp_entered\n",
    "\n",
    "def verify_otp(otp_generated, otp_entered):\n",
    "    otp_generated = str(otp_generated)\n",
    "    otp_entered = str(otp_entered)\n",
    "    \n",
    "    if otp_generated == otp_entered:\n",
    "        return True\n",
    "    else:\n",
    "        return False\n",
    "\n",
    "def main():\n",
    "    email_address = input(\"Enter your email address to receive OTP: \")\n",
    "    generated_otp = generate_otp()\n",
    "    \n",
    "    try:\n",
    "        send_otp_email(email_address, generated_otp)\n",
    "    except Exception as e:\n",
    "        print(f\"Failed to send OTP. Error: {e}\")\n",
    "        return\n",
    "    max_attempts = 3\n",
    "    attempts = 0\n",
    "    while attempts < max_attempts:\n",
    "        entered_otp = prompt_for_otp()\n",
    "        \n",
    "        if verify_otp(generated_otp, entered_otp):\n",
    "            print(\"OTP verified successfully!\")\n",
    "            break\n",
    "        else:\n",
    "            attempts += 1\n",
    "            remaining_attempts = max_attempts - attempts\n",
    "            if remaining_attempts > 0:\n",
    "                print(f\"Invalid OTP. {remaining_attempts} attempts remaining. Please try again.\")\n",
    "            else:\n",
    "                print(\"You've exceeded the maximum number of attempts. Please try again later.\")\n",
    "                break\n",
    "\n",
    "if __name__ == \"__main__\":\n",
    "    main()\n"
   ]
  },
  {
   "cell_type": "code",
   "execution_count": null,
   "id": "0ac1c8cc-d637-4e02-9420-b759016cc6a1",
   "metadata": {},
   "outputs": [],
   "source": []
  },
  {
   "cell_type": "code",
   "execution_count": null,
   "id": "b219d88b-014d-4bd8-8e63-7e845a2572e5",
   "metadata": {},
   "outputs": [],
   "source": []
  }
 ],
 "metadata": {
  "kernelspec": {
   "display_name": "Python 3 (ipykernel)",
   "language": "python",
   "name": "python3"
  },
  "language_info": {
   "codemirror_mode": {
    "name": "ipython",
    "version": 3
   },
   "file_extension": ".py",
   "mimetype": "text/x-python",
   "name": "python",
   "nbconvert_exporter": "python",
   "pygments_lexer": "ipython3",
   "version": "3.11.7"
  }
 },
 "nbformat": 4,
 "nbformat_minor": 5
}
